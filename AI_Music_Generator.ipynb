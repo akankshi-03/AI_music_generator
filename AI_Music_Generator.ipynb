{
  "nbformat": 4,
  "nbformat_minor": 0,
  "metadata": {
    "colab": {
      "provenance": []
    },
    "kernelspec": {
      "name": "python3",
      "display_name": "Python 3"
    },
    "language_info": {
      "name": "python"
    }
  },
  "cells": [
    {
      "cell_type": "code",
      "source": [
        "!pip install mingus MIDIUtil\n"
      ],
      "metadata": {
        "colab": {
          "base_uri": "https://localhost:8080/"
        },
        "id": "75n3OVnhUCKe",
        "outputId": "64f0cc70-61d6-4b35-c926-4527827a4dd4"
      },
      "execution_count": 5,
      "outputs": [
        {
          "output_type": "stream",
          "name": "stdout",
          "text": [
            "Collecting mingus\n",
            "  Downloading mingus-0.6.1-py2.py3-none-any.whl.metadata (2.3 kB)\n",
            "Collecting MIDIUtil\n",
            "  Downloading MIDIUtil-1.2.1.tar.gz (1.0 MB)\n",
            "\u001b[2K     \u001b[90m━━━━━━━━━━━━━━━━━━━━━━━━━━━━━━━━━━━━━━━━\u001b[0m \u001b[32m1.0/1.0 MB\u001b[0m \u001b[31m8.2 MB/s\u001b[0m eta \u001b[36m0:00:00\u001b[0m\n",
            "\u001b[?25h  Preparing metadata (setup.py) ... \u001b[?25l\u001b[?25hdone\n",
            "Requirement already satisfied: six in /usr/local/lib/python3.12/dist-packages (from mingus) (1.17.0)\n",
            "Downloading mingus-0.6.1-py2.py3-none-any.whl (140 kB)\n",
            "\u001b[2K   \u001b[90m━━━━━━━━━━━━━━━━━━━━━━━━━━━━━━━━━━━━━━━━\u001b[0m \u001b[32m140.0/140.0 kB\u001b[0m \u001b[31m9.0 MB/s\u001b[0m eta \u001b[36m0:00:00\u001b[0m\n",
            "\u001b[?25hBuilding wheels for collected packages: MIDIUtil\n",
            "  Building wheel for MIDIUtil (setup.py) ... \u001b[?25l\u001b[?25hdone\n",
            "  Created wheel for MIDIUtil: filename=MIDIUtil-1.2.1-py3-none-any.whl size=54569 sha256=fbec628106a0fc81fd2b48467e0117acf6bb27ab74beb85b229b0ae5a5988456\n",
            "  Stored in directory: /root/.cache/pip/wheels/88/7f/1a/19f62946c3c836b60cf789576f327f73ad8778a7e954e998c3\n",
            "Successfully built MIDIUtil\n",
            "Installing collected packages: MIDIUtil, mingus\n",
            "Successfully installed MIDIUtil-1.2.1 mingus-0.6.1\n"
          ]
        }
      ]
    },
    {
      "cell_type": "code",
      "source": [
        "from mingus.containers import Note, Bar\n",
        "from mingus.midi import midi_file_out\n",
        "import random\n",
        "\n",
        "# Create a bar in C major\n",
        "bar = Bar(key='C', meter=(4,4))\n",
        "\n",
        "# Add 8 random notes\n",
        "notes = ['C', 'D', 'E', 'F', 'G', 'A', 'B']\n",
        "for _ in range(8):\n",
        "    note = random.choice(notes)\n",
        "    bar + Note(note, 4)  # Quarter note\n",
        "\n",
        "# Save as MIDI\n",
        "midi_file_out.write_Bar(\"output.mid\", bar, 140)  # 140 BPM\n",
        "\n",
        "print(\"MIDI file generated: output.mid\")\n"
      ],
      "metadata": {
        "colab": {
          "base_uri": "https://localhost:8080/"
        },
        "id": "kQLHjdxmUVsu",
        "outputId": "054f9f92-a31a-47b5-83a6-89fa65e3f096"
      },
      "execution_count": 8,
      "outputs": [
        {
          "output_type": "stream",
          "name": "stdout",
          "text": [
            "MIDI file generated: output.mid\n"
          ]
        }
      ]
    },
    {
      "cell_type": "code",
      "source": [
        "from google.colab import files\n",
        "files.download(\"output.mid\")\n"
      ],
      "metadata": {
        "colab": {
          "base_uri": "https://localhost:8080/",
          "height": 17
        },
        "id": "bVXOz-tGUfUz",
        "outputId": "671145b4-e9e7-4aec-90fe-7f67ab024d83"
      },
      "execution_count": 9,
      "outputs": [
        {
          "output_type": "display_data",
          "data": {
            "text/plain": [
              "<IPython.core.display.Javascript object>"
            ],
            "application/javascript": [
              "\n",
              "    async function download(id, filename, size) {\n",
              "      if (!google.colab.kernel.accessAllowed) {\n",
              "        return;\n",
              "      }\n",
              "      const div = document.createElement('div');\n",
              "      const label = document.createElement('label');\n",
              "      label.textContent = `Downloading \"${filename}\": `;\n",
              "      div.appendChild(label);\n",
              "      const progress = document.createElement('progress');\n",
              "      progress.max = size;\n",
              "      div.appendChild(progress);\n",
              "      document.body.appendChild(div);\n",
              "\n",
              "      const buffers = [];\n",
              "      let downloaded = 0;\n",
              "\n",
              "      const channel = await google.colab.kernel.comms.open(id);\n",
              "      // Send a message to notify the kernel that we're ready.\n",
              "      channel.send({})\n",
              "\n",
              "      for await (const message of channel.messages) {\n",
              "        // Send a message to notify the kernel that we're ready.\n",
              "        channel.send({})\n",
              "        if (message.buffers) {\n",
              "          for (const buffer of message.buffers) {\n",
              "            buffers.push(buffer);\n",
              "            downloaded += buffer.byteLength;\n",
              "            progress.value = downloaded;\n",
              "          }\n",
              "        }\n",
              "      }\n",
              "      const blob = new Blob(buffers, {type: 'application/binary'});\n",
              "      const a = document.createElement('a');\n",
              "      a.href = window.URL.createObjectURL(blob);\n",
              "      a.download = filename;\n",
              "      div.appendChild(a);\n",
              "      a.click();\n",
              "      div.remove();\n",
              "    }\n",
              "  "
            ]
          },
          "metadata": {}
        },
        {
          "output_type": "display_data",
          "data": {
            "text/plain": [
              "<IPython.core.display.Javascript object>"
            ],
            "application/javascript": [
              "download(\"download_aad70e08-206a-4764-aa12-746c4022a4f5\", \"output.mid\", 79)"
            ]
          },
          "metadata": {}
        }
      ]
    },
    {
      "cell_type": "code",
      "source": [],
      "metadata": {
        "id": "VjU15waoUiFO"
      },
      "execution_count": null,
      "outputs": []
    }
  ]
}